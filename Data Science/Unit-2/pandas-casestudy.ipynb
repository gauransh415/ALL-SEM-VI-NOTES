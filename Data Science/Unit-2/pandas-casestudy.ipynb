{
 "cells": [
  {
   "cell_type": "code",
   "execution_count": 83,
   "id": "67c2a851",
   "metadata": {},
   "outputs": [
    {
     "name": "stdout",
     "output_type": "stream",
     "text": [
      "Note: you may need to restart the kernel to use updated packages.\n"
     ]
    }
   ],
   "source": [
    "%pip install pandas -q\n",
    "import pandas as pd\n"
   ]
  },
  {
   "cell_type": "markdown",
   "id": "4bb703e5",
   "metadata": {},
   "source": [
    "## Q - You are given a store inventory dataset with the following columns:\n",
    "- product_id: Unique identifier for the product\n",
    "- product_name: Name of the product\n",
    "- stock_quantity: Quantity of the product currently in stock\n",
    "- restock_date: Date the product is due to be restocked\n",
    "- price: Price of the product"
   ]
  },
  {
   "cell_type": "code",
   "execution_count": 84,
   "id": "b9ea0ea1",
   "metadata": {},
   "outputs": [
    {
     "data": {
      "application/vnd.microsoft.datawrangler.viewer.v0+json": {
       "columns": [
        {
         "name": "index",
         "rawType": "int64",
         "type": "integer"
        },
        {
         "name": "product_id",
         "rawType": "int64",
         "type": "integer"
        },
        {
         "name": "product_name",
         "rawType": "object",
         "type": "string"
        },
        {
         "name": "stock_quantity",
         "rawType": "int64",
         "type": "integer"
        },
        {
         "name": "restock_date",
         "rawType": "object",
         "type": "string"
        },
        {
         "name": "price",
         "rawType": "float64",
         "type": "float"
        }
       ],
       "conversionMethod": "pd.DataFrame",
       "ref": "e3efd569-89d3-4afa-872f-d7d540abe513",
       "rows": [
        [
         "0",
         "101",
         "Laptop",
         "10",
         "2023-10-01",
         "1000.0"
        ],
        [
         "1",
         "102",
         "Mouse",
         "50",
         "2023-10-05",
         "25.0"
        ],
        [
         "2",
         "103",
         "Keyboard",
         "20",
         "2023-10-03",
         "45.0"
        ],
        [
         "3",
         "104",
         "Monitor",
         "0",
         "2023-10-07",
         "150.0"
        ],
        [
         "4",
         "105",
         "Printer",
         "5",
         "2023-10-02",
         "200.0"
        ]
       ],
       "shape": {
        "columns": 5,
        "rows": 5
       }
      },
      "text/html": [
       "<div>\n",
       "<style scoped>\n",
       "    .dataframe tbody tr th:only-of-type {\n",
       "        vertical-align: middle;\n",
       "    }\n",
       "\n",
       "    .dataframe tbody tr th {\n",
       "        vertical-align: top;\n",
       "    }\n",
       "\n",
       "    .dataframe thead th {\n",
       "        text-align: right;\n",
       "    }\n",
       "</style>\n",
       "<table border=\"1\" class=\"dataframe\">\n",
       "  <thead>\n",
       "    <tr style=\"text-align: right;\">\n",
       "      <th></th>\n",
       "      <th>product_id</th>\n",
       "      <th>product_name</th>\n",
       "      <th>stock_quantity</th>\n",
       "      <th>restock_date</th>\n",
       "      <th>price</th>\n",
       "    </tr>\n",
       "  </thead>\n",
       "  <tbody>\n",
       "    <tr>\n",
       "      <th>0</th>\n",
       "      <td>101</td>\n",
       "      <td>Laptop</td>\n",
       "      <td>10</td>\n",
       "      <td>2023-10-01</td>\n",
       "      <td>1000.0</td>\n",
       "    </tr>\n",
       "    <tr>\n",
       "      <th>1</th>\n",
       "      <td>102</td>\n",
       "      <td>Mouse</td>\n",
       "      <td>50</td>\n",
       "      <td>2023-10-05</td>\n",
       "      <td>25.0</td>\n",
       "    </tr>\n",
       "    <tr>\n",
       "      <th>2</th>\n",
       "      <td>103</td>\n",
       "      <td>Keyboard</td>\n",
       "      <td>20</td>\n",
       "      <td>2023-10-03</td>\n",
       "      <td>45.0</td>\n",
       "    </tr>\n",
       "    <tr>\n",
       "      <th>3</th>\n",
       "      <td>104</td>\n",
       "      <td>Monitor</td>\n",
       "      <td>0</td>\n",
       "      <td>2023-10-07</td>\n",
       "      <td>150.0</td>\n",
       "    </tr>\n",
       "    <tr>\n",
       "      <th>4</th>\n",
       "      <td>105</td>\n",
       "      <td>Printer</td>\n",
       "      <td>5</td>\n",
       "      <td>2023-10-02</td>\n",
       "      <td>200.0</td>\n",
       "    </tr>\n",
       "  </tbody>\n",
       "</table>\n",
       "</div>"
      ],
      "text/plain": [
       "   product_id product_name  stock_quantity restock_date   price\n",
       "0         101       Laptop              10   2023-10-01  1000.0\n",
       "1         102        Mouse              50   2023-10-05    25.0\n",
       "2         103     Keyboard              20   2023-10-03    45.0\n",
       "3         104      Monitor               0   2023-10-07   150.0\n",
       "4         105      Printer               5   2023-10-02   200.0"
      ]
     },
     "execution_count": 84,
     "metadata": {},
     "output_type": "execute_result"
    }
   ],
   "source": [
    "df = pd.DataFrame({\n",
    "    'product_id': [101, 102, 103, 104, 105],\n",
    "    'product_name': ['Laptop', 'Mouse', 'Keyboard', 'Monitor', 'Printer'],\n",
    "    'stock_quantity': [10, 50, 20, 0, 5],\n",
    "    'restock_date': ['2023-10-01', '2023-10-05', '2023-10-03', '2023-10-07', '2023-10-02'],\n",
    "    'price': [1000.00, 25.00, 45.00, 150.00, 200.00]\n",
    "})\n",
    "df\n"
   ]
  },
  {
   "cell_type": "markdown",
   "id": "ac7e1354",
   "metadata": {},
   "source": [
    "### Find the products that need restocking, i.e., stock quantity is less than 10."
   ]
  },
  {
   "cell_type": "code",
   "execution_count": 85,
   "id": "736a54e0",
   "metadata": {},
   "outputs": [
    {
     "data": {
      "application/vnd.microsoft.datawrangler.viewer.v0+json": {
       "columns": [
        {
         "name": "index",
         "rawType": "int64",
         "type": "integer"
        },
        {
         "name": "product_id",
         "rawType": "int64",
         "type": "integer"
        },
        {
         "name": "product_name",
         "rawType": "object",
         "type": "string"
        },
        {
         "name": "stock_quantity",
         "rawType": "int64",
         "type": "integer"
        },
        {
         "name": "restock_date",
         "rawType": "object",
         "type": "string"
        },
        {
         "name": "price",
         "rawType": "float64",
         "type": "float"
        }
       ],
       "conversionMethod": "pd.DataFrame",
       "ref": "5fa90142-4707-4cda-a27b-b5197846634b",
       "rows": [
        [
         "1",
         "102",
         "Mouse",
         "50",
         "2023-10-05",
         "25.0"
        ],
        [
         "2",
         "103",
         "Keyboard",
         "20",
         "2023-10-03",
         "45.0"
        ]
       ],
       "shape": {
        "columns": 5,
        "rows": 2
       }
      },
      "text/html": [
       "<div>\n",
       "<style scoped>\n",
       "    .dataframe tbody tr th:only-of-type {\n",
       "        vertical-align: middle;\n",
       "    }\n",
       "\n",
       "    .dataframe tbody tr th {\n",
       "        vertical-align: top;\n",
       "    }\n",
       "\n",
       "    .dataframe thead th {\n",
       "        text-align: right;\n",
       "    }\n",
       "</style>\n",
       "<table border=\"1\" class=\"dataframe\">\n",
       "  <thead>\n",
       "    <tr style=\"text-align: right;\">\n",
       "      <th></th>\n",
       "      <th>product_id</th>\n",
       "      <th>product_name</th>\n",
       "      <th>stock_quantity</th>\n",
       "      <th>restock_date</th>\n",
       "      <th>price</th>\n",
       "    </tr>\n",
       "  </thead>\n",
       "  <tbody>\n",
       "    <tr>\n",
       "      <th>1</th>\n",
       "      <td>102</td>\n",
       "      <td>Mouse</td>\n",
       "      <td>50</td>\n",
       "      <td>2023-10-05</td>\n",
       "      <td>25.0</td>\n",
       "    </tr>\n",
       "    <tr>\n",
       "      <th>2</th>\n",
       "      <td>103</td>\n",
       "      <td>Keyboard</td>\n",
       "      <td>20</td>\n",
       "      <td>2023-10-03</td>\n",
       "      <td>45.0</td>\n",
       "    </tr>\n",
       "  </tbody>\n",
       "</table>\n",
       "</div>"
      ],
      "text/plain": [
       "   product_id product_name  stock_quantity restock_date  price\n",
       "1         102        Mouse              50   2023-10-05   25.0\n",
       "2         103     Keyboard              20   2023-10-03   45.0"
      ]
     },
     "execution_count": 85,
     "metadata": {},
     "output_type": "execute_result"
    }
   ],
   "source": [
    "df[df['stock_quantity'] > 10]\n"
   ]
  },
  {
   "cell_type": "markdown",
   "id": "1dcff41d",
   "metadata": {},
   "source": [
    "### Find the total value of inventory (stock quantity price)."
   ]
  },
  {
   "cell_type": "code",
   "execution_count": 86,
   "id": "f8de906e",
   "metadata": {},
   "outputs": [
    {
     "data": {
      "text/plain": [
       "13150.0"
      ]
     },
     "execution_count": 86,
     "metadata": {},
     "output_type": "execute_result"
    }
   ],
   "source": [
    "(df['stock_quantity'] * df['price']).sum().item()\n"
   ]
  },
  {
   "cell_type": "markdown",
   "id": "88adcca6",
   "metadata": {},
   "source": [
    "### Identify the top 3 products with the highest stock value."
   ]
  },
  {
   "cell_type": "code",
   "execution_count": 87,
   "id": "268fe0f8",
   "metadata": {},
   "outputs": [
    {
     "data": {
      "text/plain": [
       "0    10000.0\n",
       "1     1250.0\n",
       "4     1000.0\n",
       "dtype: float64"
      ]
     },
     "execution_count": 87,
     "metadata": {},
     "output_type": "execute_result"
    }
   ],
   "source": [
    "(df['stock_quantity'] * df['price']).sort_values(ascending=False).head(3)\n"
   ]
  },
  {
   "cell_type": "markdown",
   "id": "b28501e2",
   "metadata": {},
   "source": [
    "## Q - You are working with a retail business and have customer purchase data with the following columns:\n",
    "- customer_id: Unique identifier for each customer\n",
    "- purchase_date: Date of the purchase\n",
    "- purchase_amount: The amount spent by the customer during a purchase"
   ]
  },
  {
   "cell_type": "code",
   "execution_count": 88,
   "id": "8386cbaa",
   "metadata": {},
   "outputs": [
    {
     "data": {
      "application/vnd.microsoft.datawrangler.viewer.v0+json": {
       "columns": [
        {
         "name": "index",
         "rawType": "int64",
         "type": "integer"
        },
        {
         "name": "customer_id",
         "rawType": "int64",
         "type": "integer"
        },
        {
         "name": "purchase_date",
         "rawType": "object",
         "type": "string"
        },
        {
         "name": "purchase_amount",
         "rawType": "float64",
         "type": "float"
        }
       ],
       "conversionMethod": "pd.DataFrame",
       "ref": "3274fb72-20f6-4332-ada6-2da14e80e21a",
       "rows": [
        [
         "0",
         "1",
         "2023-10-01",
         "100.0"
        ],
        [
         "1",
         "2",
         "2023-10-02",
         "200.0"
        ],
        [
         "2",
         "3",
         "2023-10-03",
         "150.0"
        ],
        [
         "3",
         "1",
         "2023-10-04",
         "300.0"
        ],
        [
         "4",
         "1",
         "2023-10-05",
         "250.0"
        ]
       ],
       "shape": {
        "columns": 3,
        "rows": 5
       }
      },
      "text/html": [
       "<div>\n",
       "<style scoped>\n",
       "    .dataframe tbody tr th:only-of-type {\n",
       "        vertical-align: middle;\n",
       "    }\n",
       "\n",
       "    .dataframe tbody tr th {\n",
       "        vertical-align: top;\n",
       "    }\n",
       "\n",
       "    .dataframe thead th {\n",
       "        text-align: right;\n",
       "    }\n",
       "</style>\n",
       "<table border=\"1\" class=\"dataframe\">\n",
       "  <thead>\n",
       "    <tr style=\"text-align: right;\">\n",
       "      <th></th>\n",
       "      <th>customer_id</th>\n",
       "      <th>purchase_date</th>\n",
       "      <th>purchase_amount</th>\n",
       "    </tr>\n",
       "  </thead>\n",
       "  <tbody>\n",
       "    <tr>\n",
       "      <th>0</th>\n",
       "      <td>1</td>\n",
       "      <td>2023-10-01</td>\n",
       "      <td>100.0</td>\n",
       "    </tr>\n",
       "    <tr>\n",
       "      <th>1</th>\n",
       "      <td>2</td>\n",
       "      <td>2023-10-02</td>\n",
       "      <td>200.0</td>\n",
       "    </tr>\n",
       "    <tr>\n",
       "      <th>2</th>\n",
       "      <td>3</td>\n",
       "      <td>2023-10-03</td>\n",
       "      <td>150.0</td>\n",
       "    </tr>\n",
       "    <tr>\n",
       "      <th>3</th>\n",
       "      <td>1</td>\n",
       "      <td>2023-10-04</td>\n",
       "      <td>300.0</td>\n",
       "    </tr>\n",
       "    <tr>\n",
       "      <th>4</th>\n",
       "      <td>1</td>\n",
       "      <td>2023-10-05</td>\n",
       "      <td>250.0</td>\n",
       "    </tr>\n",
       "  </tbody>\n",
       "</table>\n",
       "</div>"
      ],
      "text/plain": [
       "   customer_id purchase_date  purchase_amount\n",
       "0            1    2023-10-01            100.0\n",
       "1            2    2023-10-02            200.0\n",
       "2            3    2023-10-03            150.0\n",
       "3            1    2023-10-04            300.0\n",
       "4            1    2023-10-05            250.0"
      ]
     },
     "execution_count": 88,
     "metadata": {},
     "output_type": "execute_result"
    }
   ],
   "source": [
    "df = pd.DataFrame({\n",
    "    'customer_id': [1, 2, 3, 1, 1],\n",
    "    'purchase_date': ['2023-10-01', '2023-10-02', '2023-10-03', '2023-10-04', '2023-10-05'],\n",
    "    'purchase_amount': [100.00, 200.00, 150.00, 300.00, 250.00]\n",
    "})\n",
    "df\n"
   ]
  },
  {
   "cell_type": "markdown",
   "id": "7c1f46e3",
   "metadata": {},
   "source": [
    "### Calculate the total purchase amount for each customer."
   ]
  },
  {
   "cell_type": "code",
   "execution_count": 89,
   "id": "f3ab60ad",
   "metadata": {},
   "outputs": [
    {
     "data": {
      "text/plain": [
       "customer_id\n",
       "1    650.0\n",
       "2    200.0\n",
       "3    150.0\n",
       "Name: purchase_amount, dtype: float64"
      ]
     },
     "execution_count": 89,
     "metadata": {},
     "output_type": "execute_result"
    }
   ],
   "source": [
    "df.groupby('customer_id')['purchase_amount'].sum()\n"
   ]
  },
  {
   "cell_type": "markdown",
   "id": "c6a9c9e5",
   "metadata": {},
   "source": [
    "### Calculate the average purchase amount per customer."
   ]
  },
  {
   "cell_type": "code",
   "execution_count": 90,
   "id": "9e880a85",
   "metadata": {},
   "outputs": [
    {
     "data": {
      "text/plain": [
       "customer_id\n",
       "1    216.666667\n",
       "2    200.000000\n",
       "3    150.000000\n",
       "Name: purchase_amount, dtype: float64"
      ]
     },
     "execution_count": 90,
     "metadata": {},
     "output_type": "execute_result"
    }
   ],
   "source": [
    "df.groupby('customer_id')['purchase_amount'].mean()\n"
   ]
  },
  {
   "cell_type": "markdown",
   "id": "af613b2a",
   "metadata": {},
   "source": [
    "### Determine the customers who have spent the most overtime."
   ]
  },
  {
   "cell_type": "code",
   "execution_count": 91,
   "id": "084b191a",
   "metadata": {},
   "outputs": [],
   "source": [
    "## heen ji??\n"
   ]
  },
  {
   "cell_type": "markdown",
   "id": "a06707cd",
   "metadata": {},
   "source": [
    "## In the given DataFrame, calculate the average sales for each product, but only for the 'Home' category."
   ]
  },
  {
   "cell_type": "code",
   "execution_count": 92,
   "id": "859ec045",
   "metadata": {},
   "outputs": [
    {
     "data": {
      "application/vnd.microsoft.datawrangler.viewer.v0+json": {
       "columns": [
        {
         "name": "index",
         "rawType": "int64",
         "type": "integer"
        },
        {
         "name": "Product",
         "rawType": "object",
         "type": "string"
        },
        {
         "name": "Category",
         "rawType": "object",
         "type": "string"
        },
        {
         "name": "Sales",
         "rawType": "int64",
         "type": "integer"
        }
       ],
       "conversionMethod": "pd.DataFrame",
       "ref": "36ef332a-3ae1-4e8b-8c67-04445a6003cc",
       "rows": [
        [
         "0",
         "A",
         "Electronics",
         "200"
        ],
        [
         "1",
         "B",
         "Electronics",
         "300"
        ],
        [
         "2",
         "A",
         "Home",
         "150"
        ],
        [
         "3",
         "C",
         "Electronics",
         "400"
        ],
        [
         "4",
         "B",
         "Home",
         "250"
        ],
        [
         "5",
         "C",
         "Home",
         "100"
        ]
       ],
       "shape": {
        "columns": 3,
        "rows": 6
       }
      },
      "text/html": [
       "<div>\n",
       "<style scoped>\n",
       "    .dataframe tbody tr th:only-of-type {\n",
       "        vertical-align: middle;\n",
       "    }\n",
       "\n",
       "    .dataframe tbody tr th {\n",
       "        vertical-align: top;\n",
       "    }\n",
       "\n",
       "    .dataframe thead th {\n",
       "        text-align: right;\n",
       "    }\n",
       "</style>\n",
       "<table border=\"1\" class=\"dataframe\">\n",
       "  <thead>\n",
       "    <tr style=\"text-align: right;\">\n",
       "      <th></th>\n",
       "      <th>Product</th>\n",
       "      <th>Category</th>\n",
       "      <th>Sales</th>\n",
       "    </tr>\n",
       "  </thead>\n",
       "  <tbody>\n",
       "    <tr>\n",
       "      <th>0</th>\n",
       "      <td>A</td>\n",
       "      <td>Electronics</td>\n",
       "      <td>200</td>\n",
       "    </tr>\n",
       "    <tr>\n",
       "      <th>1</th>\n",
       "      <td>B</td>\n",
       "      <td>Electronics</td>\n",
       "      <td>300</td>\n",
       "    </tr>\n",
       "    <tr>\n",
       "      <th>2</th>\n",
       "      <td>A</td>\n",
       "      <td>Home</td>\n",
       "      <td>150</td>\n",
       "    </tr>\n",
       "    <tr>\n",
       "      <th>3</th>\n",
       "      <td>C</td>\n",
       "      <td>Electronics</td>\n",
       "      <td>400</td>\n",
       "    </tr>\n",
       "    <tr>\n",
       "      <th>4</th>\n",
       "      <td>B</td>\n",
       "      <td>Home</td>\n",
       "      <td>250</td>\n",
       "    </tr>\n",
       "    <tr>\n",
       "      <th>5</th>\n",
       "      <td>C</td>\n",
       "      <td>Home</td>\n",
       "      <td>100</td>\n",
       "    </tr>\n",
       "  </tbody>\n",
       "</table>\n",
       "</div>"
      ],
      "text/plain": [
       "  Product     Category  Sales\n",
       "0       A  Electronics    200\n",
       "1       B  Electronics    300\n",
       "2       A         Home    150\n",
       "3       C  Electronics    400\n",
       "4       B         Home    250\n",
       "5       C         Home    100"
      ]
     },
     "execution_count": 92,
     "metadata": {},
     "output_type": "execute_result"
    }
   ],
   "source": [
    "df = pd.DataFrame({\n",
    "'Product': ['A', 'B', 'A', 'C', 'B', 'C'],\n",
    "'Category': ['Electronics', 'Electronics', 'Home', 'Electronics', 'Home', 'Home'],\n",
    "'Sales': [200, 300, 150, 400, 250, 100]\n",
    "})\n",
    "df\n"
   ]
  },
  {
   "cell_type": "code",
   "execution_count": 93,
   "id": "449de466",
   "metadata": {},
   "outputs": [
    {
     "data": {
      "text/plain": [
       "Product\n",
       "A    150.0\n",
       "B    250.0\n",
       "C    100.0\n",
       "Name: Sales, dtype: float64"
      ]
     },
     "execution_count": 93,
     "metadata": {},
     "output_type": "execute_result"
    }
   ],
   "source": [
    "df[df['Category'] == 'Home'].groupby('Product')['Sales'].mean()\n"
   ]
  },
  {
   "cell_type": "markdown",
   "id": "c2e0ebc5",
   "metadata": {},
   "source": [
    "## You are tasked with analyzing sales data for an e-commerce company to understand customer behavior, sales trends, and performance. The dataset consists of various attributes related to sales transactions. You need to analyze the data to extract insights like total sales and average order value."
   ]
  },
  {
   "cell_type": "code",
   "execution_count": null,
   "id": "e620daa4",
   "metadata": {},
   "outputs": [],
   "source": []
  },
  {
   "cell_type": "markdown",
   "id": "1af93abd",
   "metadata": {},
   "source": [
    "## You’re working with health data from a small clinic"
   ]
  },
  {
   "cell_type": "code",
   "execution_count": 94,
   "id": "66dc982c",
   "metadata": {},
   "outputs": [
    {
     "data": {
      "application/vnd.microsoft.datawrangler.viewer.v0+json": {
       "columns": [
        {
         "name": "index",
         "rawType": "int64",
         "type": "integer"
        },
        {
         "name": "PatientID",
         "rawType": "int64",
         "type": "integer"
        },
        {
         "name": "Age",
         "rawType": "int64",
         "type": "integer"
        },
        {
         "name": "Gender",
         "rawType": "object",
         "type": "string"
        },
        {
         "name": "BloodPressure",
         "rawType": "int64",
         "type": "integer"
        },
        {
         "name": "Cholesterol",
         "rawType": "object",
         "type": "string"
        }
       ],
       "conversionMethod": "pd.DataFrame",
       "ref": "859f8b09-c8d3-4dcb-a0a5-4eaae699d265",
       "rows": [
        [
         "0",
         "1",
         "34",
         "F",
         "120",
         "Normal"
        ],
        [
         "1",
         "2",
         "45",
         "M",
         "140",
         "High"
        ],
        [
         "2",
         "3",
         "23",
         "F",
         "110",
         "Normal"
        ],
        [
         "3",
         "4",
         "56",
         "M",
         "160",
         "VeryHigh"
        ],
        [
         "4",
         "5",
         "67",
         "F",
         "130",
         "High"
        ]
       ],
       "shape": {
        "columns": 5,
        "rows": 5
       }
      },
      "text/html": [
       "<div>\n",
       "<style scoped>\n",
       "    .dataframe tbody tr th:only-of-type {\n",
       "        vertical-align: middle;\n",
       "    }\n",
       "\n",
       "    .dataframe tbody tr th {\n",
       "        vertical-align: top;\n",
       "    }\n",
       "\n",
       "    .dataframe thead th {\n",
       "        text-align: right;\n",
       "    }\n",
       "</style>\n",
       "<table border=\"1\" class=\"dataframe\">\n",
       "  <thead>\n",
       "    <tr style=\"text-align: right;\">\n",
       "      <th></th>\n",
       "      <th>PatientID</th>\n",
       "      <th>Age</th>\n",
       "      <th>Gender</th>\n",
       "      <th>BloodPressure</th>\n",
       "      <th>Cholesterol</th>\n",
       "    </tr>\n",
       "  </thead>\n",
       "  <tbody>\n",
       "    <tr>\n",
       "      <th>0</th>\n",
       "      <td>1</td>\n",
       "      <td>34</td>\n",
       "      <td>F</td>\n",
       "      <td>120</td>\n",
       "      <td>Normal</td>\n",
       "    </tr>\n",
       "    <tr>\n",
       "      <th>1</th>\n",
       "      <td>2</td>\n",
       "      <td>45</td>\n",
       "      <td>M</td>\n",
       "      <td>140</td>\n",
       "      <td>High</td>\n",
       "    </tr>\n",
       "    <tr>\n",
       "      <th>2</th>\n",
       "      <td>3</td>\n",
       "      <td>23</td>\n",
       "      <td>F</td>\n",
       "      <td>110</td>\n",
       "      <td>Normal</td>\n",
       "    </tr>\n",
       "    <tr>\n",
       "      <th>3</th>\n",
       "      <td>4</td>\n",
       "      <td>56</td>\n",
       "      <td>M</td>\n",
       "      <td>160</td>\n",
       "      <td>VeryHigh</td>\n",
       "    </tr>\n",
       "    <tr>\n",
       "      <th>4</th>\n",
       "      <td>5</td>\n",
       "      <td>67</td>\n",
       "      <td>F</td>\n",
       "      <td>130</td>\n",
       "      <td>High</td>\n",
       "    </tr>\n",
       "  </tbody>\n",
       "</table>\n",
       "</div>"
      ],
      "text/plain": [
       "   PatientID  Age Gender  BloodPressure Cholesterol\n",
       "0          1   34      F            120      Normal\n",
       "1          2   45      M            140        High\n",
       "2          3   23      F            110      Normal\n",
       "3          4   56      M            160    VeryHigh\n",
       "4          5   67      F            130        High"
      ]
     },
     "execution_count": 94,
     "metadata": {},
     "output_type": "execute_result"
    }
   ],
   "source": [
    "df = pd.DataFrame({\n",
    "    'PatientID': [1, 2, 3, 4, 5], \n",
    "    'Age': [34, 45, 23, 56, 67],\n",
    "    'Gender': ['F', 'M', 'F', 'M', 'F'], \n",
    "    'BloodPressure': [120, 140, 110,160, 130], \n",
    "    'Cholesterol': ['Normal', 'High', 'Normal', 'VeryHigh', 'High']\n",
    "})\n",
    "df\n"
   ]
  },
  {
   "cell_type": "markdown",
   "id": "b648efad",
   "metadata": {},
   "source": [
    "### What is the average age of patients?"
   ]
  },
  {
   "cell_type": "code",
   "execution_count": 95,
   "id": "1cf92974",
   "metadata": {},
   "outputs": [
    {
     "data": {
      "text/plain": [
       "45.0"
      ]
     },
     "execution_count": 95,
     "metadata": {},
     "output_type": "execute_result"
    }
   ],
   "source": [
    "df['Age'].mean().item()\n"
   ]
  },
  {
   "cell_type": "markdown",
   "id": "9ca45baa",
   "metadata": {},
   "source": [
    "### Count the number of patients by gender."
   ]
  },
  {
   "cell_type": "code",
   "execution_count": 96,
   "id": "4aa24095",
   "metadata": {},
   "outputs": [
    {
     "data": {
      "text/plain": [
       "Gender\n",
       "F    3\n",
       "M    2\n",
       "Name: PatientID, dtype: int64"
      ]
     },
     "execution_count": 96,
     "metadata": {},
     "output_type": "execute_result"
    }
   ],
   "source": [
    "df.groupby('Gender')['PatientID'].count()\n"
   ]
  },
  {
   "cell_type": "markdown",
   "id": "c7317d40",
   "metadata": {},
   "source": [
    "### How many patients have “High” or “Very High” cholesterol?"
   ]
  },
  {
   "cell_type": "code",
   "execution_count": 97,
   "id": "f20c3ed8",
   "metadata": {},
   "outputs": [
    {
     "data": {
      "text/plain": [
       "Cholesterol\n",
       "High        2\n",
       "VeryHigh    1\n",
       "Name: PatientID, dtype: int64"
      ]
     },
     "execution_count": 97,
     "metadata": {},
     "output_type": "execute_result"
    }
   ],
   "source": [
    "df[df['Cholesterol'].isin(['High', 'VeryHigh'])].groupby('Cholesterol')['PatientID'].count()\n",
    "## Can be simplified??\n"
   ]
  },
  {
   "cell_type": "markdown",
   "id": "22c25552",
   "metadata": {},
   "source": [
    "### List patients with blood pressure over 130."
   ]
  },
  {
   "cell_type": "code",
   "execution_count": 98,
   "id": "ca98b879",
   "metadata": {},
   "outputs": [
    {
     "data": {
      "application/vnd.microsoft.datawrangler.viewer.v0+json": {
       "columns": [
        {
         "name": "index",
         "rawType": "int64",
         "type": "integer"
        },
        {
         "name": "PatientID",
         "rawType": "int64",
         "type": "integer"
        },
        {
         "name": "Age",
         "rawType": "int64",
         "type": "integer"
        },
        {
         "name": "Gender",
         "rawType": "object",
         "type": "string"
        },
        {
         "name": "BloodPressure",
         "rawType": "int64",
         "type": "integer"
        },
        {
         "name": "Cholesterol",
         "rawType": "object",
         "type": "string"
        }
       ],
       "conversionMethod": "pd.DataFrame",
       "ref": "97e19b61-81b5-4c5c-bf3b-3b420e977c38",
       "rows": [
        [
         "1",
         "2",
         "45",
         "M",
         "140",
         "High"
        ],
        [
         "3",
         "4",
         "56",
         "M",
         "160",
         "VeryHigh"
        ]
       ],
       "shape": {
        "columns": 5,
        "rows": 2
       }
      },
      "text/html": [
       "<div>\n",
       "<style scoped>\n",
       "    .dataframe tbody tr th:only-of-type {\n",
       "        vertical-align: middle;\n",
       "    }\n",
       "\n",
       "    .dataframe tbody tr th {\n",
       "        vertical-align: top;\n",
       "    }\n",
       "\n",
       "    .dataframe thead th {\n",
       "        text-align: right;\n",
       "    }\n",
       "</style>\n",
       "<table border=\"1\" class=\"dataframe\">\n",
       "  <thead>\n",
       "    <tr style=\"text-align: right;\">\n",
       "      <th></th>\n",
       "      <th>PatientID</th>\n",
       "      <th>Age</th>\n",
       "      <th>Gender</th>\n",
       "      <th>BloodPressure</th>\n",
       "      <th>Cholesterol</th>\n",
       "    </tr>\n",
       "  </thead>\n",
       "  <tbody>\n",
       "    <tr>\n",
       "      <th>1</th>\n",
       "      <td>2</td>\n",
       "      <td>45</td>\n",
       "      <td>M</td>\n",
       "      <td>140</td>\n",
       "      <td>High</td>\n",
       "    </tr>\n",
       "    <tr>\n",
       "      <th>3</th>\n",
       "      <td>4</td>\n",
       "      <td>56</td>\n",
       "      <td>M</td>\n",
       "      <td>160</td>\n",
       "      <td>VeryHigh</td>\n",
       "    </tr>\n",
       "  </tbody>\n",
       "</table>\n",
       "</div>"
      ],
      "text/plain": [
       "   PatientID  Age Gender  BloodPressure Cholesterol\n",
       "1          2   45      M            140        High\n",
       "3          4   56      M            160    VeryHigh"
      ]
     },
     "execution_count": 98,
     "metadata": {},
     "output_type": "execute_result"
    }
   ],
   "source": [
    "df[df['BloodPressure'] > 130]\n"
   ]
  },
  {
   "cell_type": "markdown",
   "id": "58e98526",
   "metadata": {},
   "source": [
    "### Replace \"Very High\" with \"Critical\" in the cholesterol column."
   ]
  },
  {
   "cell_type": "code",
   "execution_count": 99,
   "id": "57e29810",
   "metadata": {},
   "outputs": [
    {
     "data": {
      "application/vnd.microsoft.datawrangler.viewer.v0+json": {
       "columns": [
        {
         "name": "index",
         "rawType": "int64",
         "type": "integer"
        },
        {
         "name": "PatientID",
         "rawType": "int64",
         "type": "integer"
        },
        {
         "name": "Age",
         "rawType": "int64",
         "type": "integer"
        },
        {
         "name": "Gender",
         "rawType": "object",
         "type": "string"
        },
        {
         "name": "BloodPressure",
         "rawType": "int64",
         "type": "integer"
        },
        {
         "name": "Cholesterol",
         "rawType": "object",
         "type": "string"
        }
       ],
       "conversionMethod": "pd.DataFrame",
       "ref": "e02fad52-5a8b-4945-aff9-29c233b53bc0",
       "rows": [
        [
         "0",
         "1",
         "34",
         "F",
         "120",
         "Normal"
        ],
        [
         "1",
         "2",
         "45",
         "M",
         "140",
         "High"
        ],
        [
         "2",
         "3",
         "23",
         "F",
         "110",
         "Normal"
        ],
        [
         "3",
         "4",
         "56",
         "M",
         "160",
         "Critical"
        ],
        [
         "4",
         "5",
         "67",
         "F",
         "130",
         "High"
        ]
       ],
       "shape": {
        "columns": 5,
        "rows": 5
       }
      },
      "text/html": [
       "<div>\n",
       "<style scoped>\n",
       "    .dataframe tbody tr th:only-of-type {\n",
       "        vertical-align: middle;\n",
       "    }\n",
       "\n",
       "    .dataframe tbody tr th {\n",
       "        vertical-align: top;\n",
       "    }\n",
       "\n",
       "    .dataframe thead th {\n",
       "        text-align: right;\n",
       "    }\n",
       "</style>\n",
       "<table border=\"1\" class=\"dataframe\">\n",
       "  <thead>\n",
       "    <tr style=\"text-align: right;\">\n",
       "      <th></th>\n",
       "      <th>PatientID</th>\n",
       "      <th>Age</th>\n",
       "      <th>Gender</th>\n",
       "      <th>BloodPressure</th>\n",
       "      <th>Cholesterol</th>\n",
       "    </tr>\n",
       "  </thead>\n",
       "  <tbody>\n",
       "    <tr>\n",
       "      <th>0</th>\n",
       "      <td>1</td>\n",
       "      <td>34</td>\n",
       "      <td>F</td>\n",
       "      <td>120</td>\n",
       "      <td>Normal</td>\n",
       "    </tr>\n",
       "    <tr>\n",
       "      <th>1</th>\n",
       "      <td>2</td>\n",
       "      <td>45</td>\n",
       "      <td>M</td>\n",
       "      <td>140</td>\n",
       "      <td>High</td>\n",
       "    </tr>\n",
       "    <tr>\n",
       "      <th>2</th>\n",
       "      <td>3</td>\n",
       "      <td>23</td>\n",
       "      <td>F</td>\n",
       "      <td>110</td>\n",
       "      <td>Normal</td>\n",
       "    </tr>\n",
       "    <tr>\n",
       "      <th>3</th>\n",
       "      <td>4</td>\n",
       "      <td>56</td>\n",
       "      <td>M</td>\n",
       "      <td>160</td>\n",
       "      <td>Critical</td>\n",
       "    </tr>\n",
       "    <tr>\n",
       "      <th>4</th>\n",
       "      <td>5</td>\n",
       "      <td>67</td>\n",
       "      <td>F</td>\n",
       "      <td>130</td>\n",
       "      <td>High</td>\n",
       "    </tr>\n",
       "  </tbody>\n",
       "</table>\n",
       "</div>"
      ],
      "text/plain": [
       "   PatientID  Age Gender  BloodPressure Cholesterol\n",
       "0          1   34      F            120      Normal\n",
       "1          2   45      M            140        High\n",
       "2          3   23      F            110      Normal\n",
       "3          4   56      M            160    Critical\n",
       "4          5   67      F            130        High"
      ]
     },
     "execution_count": 99,
     "metadata": {},
     "output_type": "execute_result"
    }
   ],
   "source": [
    "df['Cholesterol'] = df['Cholesterol'].replace('VeryHigh', 'Critical')\n",
    "df\n"
   ]
  },
  {
   "cell_type": "markdown",
   "id": "f0c73fb8",
   "metadata": {},
   "source": [
    "## A company wants to analyze performance data"
   ]
  },
  {
   "cell_type": "code",
   "execution_count": 100,
   "id": "5e654bc5",
   "metadata": {},
   "outputs": [
    {
     "data": {
      "application/vnd.microsoft.datawrangler.viewer.v0+json": {
       "columns": [
        {
         "name": "index",
         "rawType": "int64",
         "type": "integer"
        },
        {
         "name": "Employee",
         "rawType": "object",
         "type": "string"
        },
        {
         "name": "Department",
         "rawType": "object",
         "type": "string"
        },
        {
         "name": "Score_2022",
         "rawType": "int64",
         "type": "integer"
        },
        {
         "name": "Score_2023",
         "rawType": "int64",
         "type": "integer"
        }
       ],
       "conversionMethod": "pd.DataFrame",
       "ref": "9420dbf2-e3b7-4d3e-8fd7-2c88c8d025ce",
       "rows": [
        [
         "0",
         "Anna",
         "HR",
         "88",
         "91"
        ],
        [
         "1",
         "Ben",
         "IT",
         "92",
         "89"
        ],
        [
         "2",
         "Cara",
         "IT",
         "85",
         "87"
        ],
        [
         "3",
         "David",
         "HR",
         "90",
         "93"
        ],
        [
         "4",
         "Eva",
         "Finance",
         "75",
         "80"
        ]
       ],
       "shape": {
        "columns": 4,
        "rows": 5
       }
      },
      "text/html": [
       "<div>\n",
       "<style scoped>\n",
       "    .dataframe tbody tr th:only-of-type {\n",
       "        vertical-align: middle;\n",
       "    }\n",
       "\n",
       "    .dataframe tbody tr th {\n",
       "        vertical-align: top;\n",
       "    }\n",
       "\n",
       "    .dataframe thead th {\n",
       "        text-align: right;\n",
       "    }\n",
       "</style>\n",
       "<table border=\"1\" class=\"dataframe\">\n",
       "  <thead>\n",
       "    <tr style=\"text-align: right;\">\n",
       "      <th></th>\n",
       "      <th>Employee</th>\n",
       "      <th>Department</th>\n",
       "      <th>Score_2022</th>\n",
       "      <th>Score_2023</th>\n",
       "    </tr>\n",
       "  </thead>\n",
       "  <tbody>\n",
       "    <tr>\n",
       "      <th>0</th>\n",
       "      <td>Anna</td>\n",
       "      <td>HR</td>\n",
       "      <td>88</td>\n",
       "      <td>91</td>\n",
       "    </tr>\n",
       "    <tr>\n",
       "      <th>1</th>\n",
       "      <td>Ben</td>\n",
       "      <td>IT</td>\n",
       "      <td>92</td>\n",
       "      <td>89</td>\n",
       "    </tr>\n",
       "    <tr>\n",
       "      <th>2</th>\n",
       "      <td>Cara</td>\n",
       "      <td>IT</td>\n",
       "      <td>85</td>\n",
       "      <td>87</td>\n",
       "    </tr>\n",
       "    <tr>\n",
       "      <th>3</th>\n",
       "      <td>David</td>\n",
       "      <td>HR</td>\n",
       "      <td>90</td>\n",
       "      <td>93</td>\n",
       "    </tr>\n",
       "    <tr>\n",
       "      <th>4</th>\n",
       "      <td>Eva</td>\n",
       "      <td>Finance</td>\n",
       "      <td>75</td>\n",
       "      <td>80</td>\n",
       "    </tr>\n",
       "  </tbody>\n",
       "</table>\n",
       "</div>"
      ],
      "text/plain": [
       "  Employee Department  Score_2022  Score_2023\n",
       "0     Anna         HR          88          91\n",
       "1      Ben         IT          92          89\n",
       "2     Cara         IT          85          87\n",
       "3    David         HR          90          93\n",
       "4      Eva    Finance          75          80"
      ]
     },
     "execution_count": 100,
     "metadata": {},
     "output_type": "execute_result"
    }
   ],
   "source": [
    "df = pd.DataFrame({\n",
    "    'Employee': ['Anna', 'Ben', 'Cara', 'David', 'Eva'],\n",
    "    'Department': ['HR', 'IT', 'IT', 'HR', 'Finance'],\n",
    "    'Score_2022': [88, 92, 85, 90, 75], \n",
    "    'Score_2023': [91, 89,87, 93, 80]\n",
    "})\n",
    "df\n"
   ]
  },
  {
   "cell_type": "markdown",
   "id": "c16cfe15",
   "metadata": {},
   "source": [
    "### Compute the improvement in score for each employee."
   ]
  },
  {
   "cell_type": "code",
   "execution_count": 101,
   "id": "b634565b",
   "metadata": {},
   "outputs": [
    {
     "data": {
      "application/vnd.microsoft.datawrangler.viewer.v0+json": {
       "columns": [
        {
         "name": "index",
         "rawType": "int64",
         "type": "integer"
        },
        {
         "name": "Employee",
         "rawType": "object",
         "type": "string"
        },
        {
         "name": "Improvement",
         "rawType": "int64",
         "type": "integer"
        }
       ],
       "conversionMethod": "pd.DataFrame",
       "ref": "af9bcfb4-077d-4567-bb75-79c848cbf82d",
       "rows": [
        [
         "0",
         "Anna",
         "3"
        ],
        [
         "1",
         "Ben",
         "-3"
        ],
        [
         "2",
         "Cara",
         "2"
        ],
        [
         "3",
         "David",
         "3"
        ],
        [
         "4",
         "Eva",
         "5"
        ]
       ],
       "shape": {
        "columns": 2,
        "rows": 5
       }
      },
      "text/html": [
       "<div>\n",
       "<style scoped>\n",
       "    .dataframe tbody tr th:only-of-type {\n",
       "        vertical-align: middle;\n",
       "    }\n",
       "\n",
       "    .dataframe tbody tr th {\n",
       "        vertical-align: top;\n",
       "    }\n",
       "\n",
       "    .dataframe thead th {\n",
       "        text-align: right;\n",
       "    }\n",
       "</style>\n",
       "<table border=\"1\" class=\"dataframe\">\n",
       "  <thead>\n",
       "    <tr style=\"text-align: right;\">\n",
       "      <th></th>\n",
       "      <th>Employee</th>\n",
       "      <th>Improvement</th>\n",
       "    </tr>\n",
       "  </thead>\n",
       "  <tbody>\n",
       "    <tr>\n",
       "      <th>0</th>\n",
       "      <td>Anna</td>\n",
       "      <td>3</td>\n",
       "    </tr>\n",
       "    <tr>\n",
       "      <th>1</th>\n",
       "      <td>Ben</td>\n",
       "      <td>-3</td>\n",
       "    </tr>\n",
       "    <tr>\n",
       "      <th>2</th>\n",
       "      <td>Cara</td>\n",
       "      <td>2</td>\n",
       "    </tr>\n",
       "    <tr>\n",
       "      <th>3</th>\n",
       "      <td>David</td>\n",
       "      <td>3</td>\n",
       "    </tr>\n",
       "    <tr>\n",
       "      <th>4</th>\n",
       "      <td>Eva</td>\n",
       "      <td>5</td>\n",
       "    </tr>\n",
       "  </tbody>\n",
       "</table>\n",
       "</div>"
      ],
      "text/plain": [
       "  Employee  Improvement\n",
       "0     Anna            3\n",
       "1      Ben           -3\n",
       "2     Cara            2\n",
       "3    David            3\n",
       "4      Eva            5"
      ]
     },
     "execution_count": 101,
     "metadata": {},
     "output_type": "execute_result"
    }
   ],
   "source": [
    "df['Improvement'] = df['Score_2023'] - df['Score_2022']\n",
    "df[['Employee', 'Improvement']]\n"
   ]
  },
  {
   "cell_type": "markdown",
   "id": "5da2401f",
   "metadata": {},
   "source": [
    "### Find the department with the highest average improvement."
   ]
  },
  {
   "cell_type": "code",
   "execution_count": 102,
   "id": "8cf56af3",
   "metadata": {},
   "outputs": [
    {
     "data": {
      "text/plain": [
       "Department\n",
       "Finance    5.0\n",
       "HR         3.0\n",
       "IT        -0.5\n",
       "Name: Improvement, dtype: float64"
      ]
     },
     "execution_count": 102,
     "metadata": {},
     "output_type": "execute_result"
    }
   ],
   "source": [
    "df.groupby('Department')['Improvement'].mean()\n"
   ]
  },
  {
   "cell_type": "markdown",
   "id": "48f8ce64",
   "metadata": {},
   "source": [
    "### Who had the highest score in 2023?"
   ]
  },
  {
   "cell_type": "code",
   "execution_count": 103,
   "id": "16ad3f01",
   "metadata": {},
   "outputs": [
    {
     "data": {
      "text/plain": [
       "'David'"
      ]
     },
     "execution_count": 103,
     "metadata": {},
     "output_type": "execute_result"
    }
   ],
   "source": [
    "df.iloc[df['Score_2023'].argmax(), 0]\n"
   ]
  },
  {
   "cell_type": "markdown",
   "id": "aed26c2d",
   "metadata": {},
   "source": [
    "### What is the average score in 2022 and 2023?"
   ]
  },
  {
   "cell_type": "code",
   "execution_count": 104,
   "id": "f70cf077",
   "metadata": {},
   "outputs": [
    {
     "data": {
      "text/plain": [
       "(np.float64(86.0), np.float64(88.0))"
      ]
     },
     "execution_count": 104,
     "metadata": {},
     "output_type": "execute_result"
    }
   ],
   "source": [
    "df['Score_2022'].mean(), df['Score_2023'].mean()\n"
   ]
  },
  {
   "cell_type": "markdown",
   "id": "270ce145",
   "metadata": {},
   "source": [
    "### Add a column with performance grade (A: >90, B: 80-90, C: <80) based on 2023 scores."
   ]
  },
  {
   "cell_type": "code",
   "execution_count": 106,
   "id": "b143e2aa",
   "metadata": {},
   "outputs": [
    {
     "data": {
      "application/vnd.microsoft.datawrangler.viewer.v0+json": {
       "columns": [
        {
         "name": "index",
         "rawType": "int64",
         "type": "integer"
        },
        {
         "name": "Employee",
         "rawType": "object",
         "type": "string"
        },
        {
         "name": "Performace Grade",
         "rawType": "object",
         "type": "string"
        }
       ],
       "conversionMethod": "pd.DataFrame",
       "ref": "92833b0a-c7bc-49d2-b0d5-8c87748e549d",
       "rows": [
        [
         "0",
         "Anna",
         "A"
        ],
        [
         "1",
         "Ben",
         "B"
        ],
        [
         "2",
         "Cara",
         "B"
        ],
        [
         "3",
         "David",
         "A"
        ],
        [
         "4",
         "Eva",
         "B"
        ]
       ],
       "shape": {
        "columns": 2,
        "rows": 5
       }
      },
      "text/html": [
       "<div>\n",
       "<style scoped>\n",
       "    .dataframe tbody tr th:only-of-type {\n",
       "        vertical-align: middle;\n",
       "    }\n",
       "\n",
       "    .dataframe tbody tr th {\n",
       "        vertical-align: top;\n",
       "    }\n",
       "\n",
       "    .dataframe thead th {\n",
       "        text-align: right;\n",
       "    }\n",
       "</style>\n",
       "<table border=\"1\" class=\"dataframe\">\n",
       "  <thead>\n",
       "    <tr style=\"text-align: right;\">\n",
       "      <th></th>\n",
       "      <th>Employee</th>\n",
       "      <th>Performace Grade</th>\n",
       "    </tr>\n",
       "  </thead>\n",
       "  <tbody>\n",
       "    <tr>\n",
       "      <th>0</th>\n",
       "      <td>Anna</td>\n",
       "      <td>A</td>\n",
       "    </tr>\n",
       "    <tr>\n",
       "      <th>1</th>\n",
       "      <td>Ben</td>\n",
       "      <td>B</td>\n",
       "    </tr>\n",
       "    <tr>\n",
       "      <th>2</th>\n",
       "      <td>Cara</td>\n",
       "      <td>B</td>\n",
       "    </tr>\n",
       "    <tr>\n",
       "      <th>3</th>\n",
       "      <td>David</td>\n",
       "      <td>A</td>\n",
       "    </tr>\n",
       "    <tr>\n",
       "      <th>4</th>\n",
       "      <td>Eva</td>\n",
       "      <td>B</td>\n",
       "    </tr>\n",
       "  </tbody>\n",
       "</table>\n",
       "</div>"
      ],
      "text/plain": [
       "  Employee Performace Grade\n",
       "0     Anna                A\n",
       "1      Ben                B\n",
       "2     Cara                B\n",
       "3    David                A\n",
       "4      Eva                B"
      ]
     },
     "execution_count": 106,
     "metadata": {},
     "output_type": "execute_result"
    }
   ],
   "source": [
    "def compute_grade(score):\n",
    "    if score >= 90:\n",
    "        return 'A'\n",
    "    elif score >= 80:\n",
    "        return 'B'\n",
    "    else:\n",
    "        return 'C'\n",
    "\n",
    "df['Performace Grade'] = df['Score_2023'].apply(compute_grade)\n",
    "df[['Employee', 'Performace Grade']]\n"
   ]
  },
  {
   "cell_type": "markdown",
   "id": "86997ef5",
   "metadata": {},
   "source": [
    "## Rank employees within each department based on their scores (highest first)."
   ]
  },
  {
   "cell_type": "code",
   "execution_count": null,
   "id": "4e8c2472",
   "metadata": {},
   "outputs": [
    {
     "data": {
      "application/vnd.microsoft.datawrangler.viewer.v0+json": {
       "columns": [
        {
         "name": "index",
         "rawType": "int64",
         "type": "integer"
        },
        {
         "name": "Department",
         "rawType": "object",
         "type": "string"
        },
        {
         "name": "Employee",
         "rawType": "object",
         "type": "string"
        },
        {
         "name": "Score",
         "rawType": "int64",
         "type": "integer"
        }
       ],
       "conversionMethod": "pd.DataFrame",
       "ref": "50542464-70ea-4b56-8e7e-22edfb2a1ba3",
       "rows": [
        [
         "0",
         "HR",
         "Alice",
         "88"
        ],
        [
         "1",
         "HR",
         "Bob",
         "92"
        ],
        [
         "2",
         "IT",
         "Cara",
         "95"
        ],
        [
         "3",
         "IT",
         "Dan",
         "89"
        ],
        [
         "4",
         "Finance",
         "Eve",
         "85"
        ],
        [
         "5",
         "Finance",
         "Frank",
         "87"
        ]
       ],
       "shape": {
        "columns": 3,
        "rows": 6
       }
      },
      "text/html": [
       "<div>\n",
       "<style scoped>\n",
       "    .dataframe tbody tr th:only-of-type {\n",
       "        vertical-align: middle;\n",
       "    }\n",
       "\n",
       "    .dataframe tbody tr th {\n",
       "        vertical-align: top;\n",
       "    }\n",
       "\n",
       "    .dataframe thead th {\n",
       "        text-align: right;\n",
       "    }\n",
       "</style>\n",
       "<table border=\"1\" class=\"dataframe\">\n",
       "  <thead>\n",
       "    <tr style=\"text-align: right;\">\n",
       "      <th></th>\n",
       "      <th>Department</th>\n",
       "      <th>Employee</th>\n",
       "      <th>Score</th>\n",
       "    </tr>\n",
       "  </thead>\n",
       "  <tbody>\n",
       "    <tr>\n",
       "      <th>0</th>\n",
       "      <td>HR</td>\n",
       "      <td>Alice</td>\n",
       "      <td>88</td>\n",
       "    </tr>\n",
       "    <tr>\n",
       "      <th>1</th>\n",
       "      <td>HR</td>\n",
       "      <td>Bob</td>\n",
       "      <td>92</td>\n",
       "    </tr>\n",
       "    <tr>\n",
       "      <th>2</th>\n",
       "      <td>IT</td>\n",
       "      <td>Cara</td>\n",
       "      <td>95</td>\n",
       "    </tr>\n",
       "    <tr>\n",
       "      <th>3</th>\n",
       "      <td>IT</td>\n",
       "      <td>Dan</td>\n",
       "      <td>89</td>\n",
       "    </tr>\n",
       "    <tr>\n",
       "      <th>4</th>\n",
       "      <td>Finance</td>\n",
       "      <td>Eve</td>\n",
       "      <td>85</td>\n",
       "    </tr>\n",
       "    <tr>\n",
       "      <th>5</th>\n",
       "      <td>Finance</td>\n",
       "      <td>Frank</td>\n",
       "      <td>87</td>\n",
       "    </tr>\n",
       "  </tbody>\n",
       "</table>\n",
       "</div>"
      ],
      "text/plain": [
       "  Department Employee  Score\n",
       "0         HR    Alice     88\n",
       "1         HR      Bob     92\n",
       "2         IT     Cara     95\n",
       "3         IT      Dan     89\n",
       "4    Finance      Eve     85\n",
       "5    Finance    Frank     87"
      ]
     },
     "execution_count": 107,
     "metadata": {},
     "output_type": "execute_result"
    }
   ],
   "source": [
    "df = pd.DataFrame({\n",
    "    'Department': ['HR', 'HR', 'IT', 'IT', 'Finance', 'Finance'],\n",
    "    'Employee': ['Alice', 'Bob', 'Cara', 'Dan', 'Eve', 'Frank'],\n",
    "    'Score': [88, 92, 95, 89, 85, 87]\n",
    "})\n",
    "df\n"
   ]
  },
  {
   "cell_type": "code",
   "execution_count": null,
   "id": "55fcfc5f",
   "metadata": {},
   "outputs": [
    {
     "data": {
      "text/plain": [
       "<pandas.core.groupby.generic.SeriesGroupBy object at 0x120fda090>"
      ]
     },
     "execution_count": 113,
     "metadata": {},
     "output_type": "execute_result"
    }
   ],
   "source": [
    "df.groupby('Department')['Score'].max()\n",
    "## How??\n"
   ]
  },
  {
   "cell_type": "markdown",
   "id": "b032b1da",
   "metadata": {},
   "source": [
    "## Given"
   ]
  },
  {
   "cell_type": "code",
   "execution_count": null,
   "id": "56c8efd5",
   "metadata": {},
   "outputs": [
    {
     "data": {
      "application/vnd.microsoft.datawrangler.viewer.v0+json": {
       "columns": [
        {
         "name": "index",
         "rawType": "int64",
         "type": "integer"
        },
        {
         "name": "Customer",
         "rawType": "object",
         "type": "string"
        },
        {
         "name": "OrderID",
         "rawType": "int64",
         "type": "integer"
        }
       ],
       "conversionMethod": "pd.DataFrame",
       "ref": "0a6eb640-7dc5-4897-91f8-6ba6f07c6210",
       "rows": [
        [
         "0",
         "Alice",
         "1"
        ],
        [
         "1",
         "Bob",
         "2"
        ],
        [
         "2",
         "Alice",
         "1"
        ],
        [
         "3",
         "Dave",
         "3"
        ],
        [
         "4",
         "Bob",
         "2"
        ]
       ],
       "shape": {
        "columns": 2,
        "rows": 5
       }
      },
      "text/html": [
       "<div>\n",
       "<style scoped>\n",
       "    .dataframe tbody tr th:only-of-type {\n",
       "        vertical-align: middle;\n",
       "    }\n",
       "\n",
       "    .dataframe tbody tr th {\n",
       "        vertical-align: top;\n",
       "    }\n",
       "\n",
       "    .dataframe thead th {\n",
       "        text-align: right;\n",
       "    }\n",
       "</style>\n",
       "<table border=\"1\" class=\"dataframe\">\n",
       "  <thead>\n",
       "    <tr style=\"text-align: right;\">\n",
       "      <th></th>\n",
       "      <th>Customer</th>\n",
       "      <th>OrderID</th>\n",
       "    </tr>\n",
       "  </thead>\n",
       "  <tbody>\n",
       "    <tr>\n",
       "      <th>0</th>\n",
       "      <td>Alice</td>\n",
       "      <td>1</td>\n",
       "    </tr>\n",
       "    <tr>\n",
       "      <th>1</th>\n",
       "      <td>Bob</td>\n",
       "      <td>2</td>\n",
       "    </tr>\n",
       "    <tr>\n",
       "      <th>2</th>\n",
       "      <td>Alice</td>\n",
       "      <td>1</td>\n",
       "    </tr>\n",
       "    <tr>\n",
       "      <th>3</th>\n",
       "      <td>Dave</td>\n",
       "      <td>3</td>\n",
       "    </tr>\n",
       "    <tr>\n",
       "      <th>4</th>\n",
       "      <td>Bob</td>\n",
       "      <td>2</td>\n",
       "    </tr>\n",
       "  </tbody>\n",
       "</table>\n",
       "</div>"
      ],
      "text/plain": [
       "  Customer  OrderID\n",
       "0    Alice        1\n",
       "1      Bob        2\n",
       "2    Alice        1\n",
       "3     Dave        3\n",
       "4      Bob        2"
      ]
     },
     "execution_count": 114,
     "metadata": {},
     "output_type": "execute_result"
    }
   ],
   "source": [
    "df = pd.DataFrame({\n",
    "    'Customer': ['Alice', 'Bob', 'Alice', 'Dave', 'Bob'],\n",
    "    'OrderID': [1, 2, 1, 3, 2]\n",
    "})\n",
    "df\n"
   ]
  },
  {
   "cell_type": "markdown",
   "id": "ec3eab2d",
   "metadata": {},
   "source": [
    "### How many duplicate orders are there?"
   ]
  },
  {
   "cell_type": "code",
   "execution_count": 130,
   "id": "9372d362",
   "metadata": {},
   "outputs": [
    {
     "data": {
      "text/plain": [
       "2"
      ]
     },
     "execution_count": 130,
     "metadata": {},
     "output_type": "execute_result"
    }
   ],
   "source": [
    "df[df.duplicated()].ndim\n"
   ]
  },
  {
   "cell_type": "markdown",
   "id": "9a5341dd",
   "metadata": {},
   "source": [
    "### Remove them and keep the first occurrence."
   ]
  },
  {
   "cell_type": "code",
   "execution_count": 126,
   "id": "f61b3ae2",
   "metadata": {},
   "outputs": [
    {
     "data": {
      "application/vnd.microsoft.datawrangler.viewer.v0+json": {
       "columns": [
        {
         "name": "index",
         "rawType": "int64",
         "type": "integer"
        },
        {
         "name": "Customer",
         "rawType": "object",
         "type": "string"
        },
        {
         "name": "OrderID",
         "rawType": "int64",
         "type": "integer"
        }
       ],
       "conversionMethod": "pd.DataFrame",
       "ref": "8b1b4bbd-4962-49bd-8e04-6cc6e37580fe",
       "rows": [
        [
         "0",
         "Alice",
         "1"
        ],
        [
         "1",
         "Bob",
         "2"
        ],
        [
         "3",
         "Dave",
         "3"
        ]
       ],
       "shape": {
        "columns": 2,
        "rows": 3
       }
      },
      "text/html": [
       "<div>\n",
       "<style scoped>\n",
       "    .dataframe tbody tr th:only-of-type {\n",
       "        vertical-align: middle;\n",
       "    }\n",
       "\n",
       "    .dataframe tbody tr th {\n",
       "        vertical-align: top;\n",
       "    }\n",
       "\n",
       "    .dataframe thead th {\n",
       "        text-align: right;\n",
       "    }\n",
       "</style>\n",
       "<table border=\"1\" class=\"dataframe\">\n",
       "  <thead>\n",
       "    <tr style=\"text-align: right;\">\n",
       "      <th></th>\n",
       "      <th>Customer</th>\n",
       "      <th>OrderID</th>\n",
       "    </tr>\n",
       "  </thead>\n",
       "  <tbody>\n",
       "    <tr>\n",
       "      <th>0</th>\n",
       "      <td>Alice</td>\n",
       "      <td>1</td>\n",
       "    </tr>\n",
       "    <tr>\n",
       "      <th>1</th>\n",
       "      <td>Bob</td>\n",
       "      <td>2</td>\n",
       "    </tr>\n",
       "    <tr>\n",
       "      <th>3</th>\n",
       "      <td>Dave</td>\n",
       "      <td>3</td>\n",
       "    </tr>\n",
       "  </tbody>\n",
       "</table>\n",
       "</div>"
      ],
      "text/plain": [
       "  Customer  OrderID\n",
       "0    Alice        1\n",
       "1      Bob        2\n",
       "3     Dave        3"
      ]
     },
     "execution_count": 126,
     "metadata": {},
     "output_type": "execute_result"
    }
   ],
   "source": [
    "df[~df.duplicated()]\n"
   ]
  },
  {
   "cell_type": "markdown",
   "id": "97de8fe4",
   "metadata": {},
   "source": [
    "## Given"
   ]
  },
  {
   "cell_type": "code",
   "execution_count": null,
   "id": "5b18ba1f",
   "metadata": {},
   "outputs": [
    {
     "data": {
      "application/vnd.microsoft.datawrangler.viewer.v0+json": {
       "columns": [
        {
         "name": "index",
         "rawType": "int64",
         "type": "integer"
        },
        {
         "name": "Region",
         "rawType": "object",
         "type": "string"
        },
        {
         "name": "Product",
         "rawType": "object",
         "type": "string"
        },
        {
         "name": "Sales",
         "rawType": "int64",
         "type": "integer"
        }
       ],
       "conversionMethod": "pd.DataFrame",
       "ref": "a7f697ef-bb7b-42a0-bc5e-5e07bf091820",
       "rows": [
        [
         "0",
         "North",
         "A",
         "200"
        ],
        [
         "1",
         "South",
         "A",
         "150"
        ],
        [
         "2",
         "North",
         "B",
         "100"
        ],
        [
         "3",
         "South",
         "B",
         "250"
        ]
       ],
       "shape": {
        "columns": 3,
        "rows": 4
       }
      },
      "text/html": [
       "<div>\n",
       "<style scoped>\n",
       "    .dataframe tbody tr th:only-of-type {\n",
       "        vertical-align: middle;\n",
       "    }\n",
       "\n",
       "    .dataframe tbody tr th {\n",
       "        vertical-align: top;\n",
       "    }\n",
       "\n",
       "    .dataframe thead th {\n",
       "        text-align: right;\n",
       "    }\n",
       "</style>\n",
       "<table border=\"1\" class=\"dataframe\">\n",
       "  <thead>\n",
       "    <tr style=\"text-align: right;\">\n",
       "      <th></th>\n",
       "      <th>Region</th>\n",
       "      <th>Product</th>\n",
       "      <th>Sales</th>\n",
       "    </tr>\n",
       "  </thead>\n",
       "  <tbody>\n",
       "    <tr>\n",
       "      <th>0</th>\n",
       "      <td>North</td>\n",
       "      <td>A</td>\n",
       "      <td>200</td>\n",
       "    </tr>\n",
       "    <tr>\n",
       "      <th>1</th>\n",
       "      <td>South</td>\n",
       "      <td>A</td>\n",
       "      <td>150</td>\n",
       "    </tr>\n",
       "    <tr>\n",
       "      <th>2</th>\n",
       "      <td>North</td>\n",
       "      <td>B</td>\n",
       "      <td>100</td>\n",
       "    </tr>\n",
       "    <tr>\n",
       "      <th>3</th>\n",
       "      <td>South</td>\n",
       "      <td>B</td>\n",
       "      <td>250</td>\n",
       "    </tr>\n",
       "  </tbody>\n",
       "</table>\n",
       "</div>"
      ],
      "text/plain": [
       "  Region Product  Sales\n",
       "0  North       A    200\n",
       "1  South       A    150\n",
       "2  North       B    100\n",
       "3  South       B    250"
      ]
     },
     "execution_count": 131,
     "metadata": {},
     "output_type": "execute_result"
    }
   ],
   "source": [
    "df = pd.DataFrame({\n",
    "    'Region': ['North', 'South', 'North', 'South'],\n",
    "    'Product': ['A', 'A', 'B', 'B'],\n",
    "    'Sales': [200, 150, 100, 250]\n",
    "})\n",
    "df\n"
   ]
  },
  {
   "cell_type": "markdown",
   "id": "df4ca550",
   "metadata": {},
   "source": [
    "### Pivot the table to show sales per region per product."
   ]
  },
  {
   "cell_type": "code",
   "execution_count": null,
   "id": "2cf60e94",
   "metadata": {},
   "outputs": [],
   "source": []
  },
  {
   "cell_type": "markdown",
   "id": "0ffb26fb",
   "metadata": {},
   "source": [
    "### Show only rows where the sales are above the average sales of their region."
   ]
  },
  {
   "cell_type": "code",
   "execution_count": 135,
   "id": "42f40430",
   "metadata": {},
   "outputs": [
    {
     "data": {
      "application/vnd.microsoft.datawrangler.viewer.v0+json": {
       "columns": [
        {
         "name": "index",
         "rawType": "int64",
         "type": "integer"
        },
        {
         "name": "Region",
         "rawType": "object",
         "type": "string"
        },
        {
         "name": "Product",
         "rawType": "object",
         "type": "string"
        },
        {
         "name": "Sales",
         "rawType": "int64",
         "type": "integer"
        },
        {
         "name": "Avg_Sales",
         "rawType": "float64",
         "type": "float"
        }
       ],
       "conversionMethod": "pd.DataFrame",
       "ref": "a1f0774c-627e-4191-8849-22f44f6b37d4",
       "rows": [
        [
         "0",
         "North",
         "A",
         "200",
         "150.0"
        ],
        [
         "3",
         "South",
         "B",
         "250",
         "200.0"
        ]
       ],
       "shape": {
        "columns": 4,
        "rows": 2
       }
      },
      "text/html": [
       "<div>\n",
       "<style scoped>\n",
       "    .dataframe tbody tr th:only-of-type {\n",
       "        vertical-align: middle;\n",
       "    }\n",
       "\n",
       "    .dataframe tbody tr th {\n",
       "        vertical-align: top;\n",
       "    }\n",
       "\n",
       "    .dataframe thead th {\n",
       "        text-align: right;\n",
       "    }\n",
       "</style>\n",
       "<table border=\"1\" class=\"dataframe\">\n",
       "  <thead>\n",
       "    <tr style=\"text-align: right;\">\n",
       "      <th></th>\n",
       "      <th>Region</th>\n",
       "      <th>Product</th>\n",
       "      <th>Sales</th>\n",
       "      <th>Avg_Sales</th>\n",
       "    </tr>\n",
       "  </thead>\n",
       "  <tbody>\n",
       "    <tr>\n",
       "      <th>0</th>\n",
       "      <td>North</td>\n",
       "      <td>A</td>\n",
       "      <td>200</td>\n",
       "      <td>150.0</td>\n",
       "    </tr>\n",
       "    <tr>\n",
       "      <th>3</th>\n",
       "      <td>South</td>\n",
       "      <td>B</td>\n",
       "      <td>250</td>\n",
       "      <td>200.0</td>\n",
       "    </tr>\n",
       "  </tbody>\n",
       "</table>\n",
       "</div>"
      ],
      "text/plain": [
       "  Region Product  Sales  Avg_Sales\n",
       "0  North       A    200      150.0\n",
       "3  South       B    250      200.0"
      ]
     },
     "execution_count": 135,
     "metadata": {},
     "output_type": "execute_result"
    }
   ],
   "source": [
    "avg_sales = df.groupby('Region')['Sales'].mean()\n",
    "df['Avg_Sales'] = df['Region'].map(avg_sales)\n",
    "df[df['Sales'] > df['Avg_Sales']]\n"
   ]
  },
  {
   "cell_type": "markdown",
   "id": "7340fede",
   "metadata": {},
   "source": [
    "## How do you get the count of all unique values of a categorical column in a DataFrame?"
   ]
  },
  {
   "cell_type": "markdown",
   "id": "dbc243ec",
   "metadata": {},
   "source": [
    "## Report the top 10 ranked songs by position. Output the track and the ranks in the descending order of ranks. If there are multiple songs with the same rank, sort them in alphabetical order of the track name."
   ]
  }
 ],
 "metadata": {
  "kernelspec": {
   "display_name": "base",
   "language": "python",
   "name": "python3"
  },
  "language_info": {
   "codemirror_mode": {
    "name": "ipython",
    "version": 3
   },
   "file_extension": ".py",
   "mimetype": "text/x-python",
   "name": "python",
   "nbconvert_exporter": "python",
   "pygments_lexer": "ipython3",
   "version": "3.12.2"
  }
 },
 "nbformat": 4,
 "nbformat_minor": 5
}
