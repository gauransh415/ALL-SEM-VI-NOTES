{
 "cells": [
  {
   "cell_type": "code",
   "execution_count": 1,
   "id": "336409c8",
   "metadata": {},
   "outputs": [
    {
     "name": "stdout",
     "output_type": "stream",
     "text": [
      "Requirement already satisfied: numpy in /Users/Gauransh/Desktop/Data-Science-Prep/venv/lib/python3.13/site-packages (2.2.5)\n",
      "\n",
      "\u001b[1m[\u001b[0m\u001b[34;49mnotice\u001b[0m\u001b[1;39;49m]\u001b[0m\u001b[39;49m A new release of pip is available: \u001b[0m\u001b[31;49m25.0.1\u001b[0m\u001b[39;49m -> \u001b[0m\u001b[32;49m25.1.1\u001b[0m\n",
      "\u001b[1m[\u001b[0m\u001b[34;49mnotice\u001b[0m\u001b[1;39;49m]\u001b[0m\u001b[39;49m To update, run: \u001b[0m\u001b[32;49mpip install --upgrade pip\u001b[0m\n",
      "Note: you may need to restart the kernel to use updated packages.\n"
     ]
    }
   ],
   "source": [
    "%pip install numpy\n",
    "import numpy as np\n"
   ]
  },
  {
   "cell_type": "markdown",
   "id": "d4398bf8",
   "metadata": {},
   "source": [
    "# Case Study"
   ]
  },
  {
   "cell_type": "markdown",
   "id": "39da1ca1",
   "metadata": {},
   "source": [
    "## Q - You are working with sales data for a small store. The data includes the number of items sold on each day for a month (30 days), and you have the sales data for 3 items: apples, oranges, and bananas. The sales data is represented as a 2D NumPy array, where each row represents a day, and each column represents the sales data for an item."
   ]
  },
  {
   "cell_type": "markdown",
   "id": "90e0fad9",
   "metadata": {},
   "source": [
    "### 1. Creating the Data: How would you create a NumPy array representing the sales data for 30 days and 3 items, with random sales values between 0 and 100?"
   ]
  },
  {
   "cell_type": "code",
   "execution_count": 10,
   "id": "59defd04",
   "metadata": {},
   "outputs": [
    {
     "data": {
      "text/plain": [
       "array([[85, 78, 12],\n",
       "       [58, 76, 86],\n",
       "       [26, 53, 69],\n",
       "       [40,  2, 11],\n",
       "       [64,  8, 90],\n",
       "       [84, 97, 91],\n",
       "       [ 0, 50,  5],\n",
       "       [86, 34, 89],\n",
       "       [79, 32, 16],\n",
       "       [12, 14, 67],\n",
       "       [21, 29, 48],\n",
       "       [17, 86, 81],\n",
       "       [69, 60, 15],\n",
       "       [40, 59, 65],\n",
       "       [29, 35, 50],\n",
       "       [52, 86, 92],\n",
       "       [21, 89,  3],\n",
       "       [71, 90, 10],\n",
       "       [53, 24, 51],\n",
       "       [51, 96, 72],\n",
       "       [59, 22, 34],\n",
       "       [46, 88, 72],\n",
       "       [10, 98, 83],\n",
       "       [98, 29, 90],\n",
       "       [95, 48, 19],\n",
       "       [80, 24, 88],\n",
       "       [82, 75, 57],\n",
       "       [17, 34, 69],\n",
       "       [82,  1, 90],\n",
       "       [51, 56, 57]])"
      ]
     },
     "execution_count": 10,
     "metadata": {},
     "output_type": "execute_result"
    }
   ],
   "source": [
    "data = np.random.randint(0, 100, size=(30, 3))\n",
    "data"
   ]
  },
  {
   "cell_type": "markdown",
   "id": "257f3af0",
   "metadata": {},
   "source": [
    "### 2. Total Sales for Each Item: Write the NumPy code to calculate the total sales for each item over the 30 days."
   ]
  },
  {
   "cell_type": "code",
   "execution_count": 11,
   "id": "521ccad3",
   "metadata": {},
   "outputs": [
    {
     "data": {
      "text/plain": [
       "array([1578, 1573, 1682])"
      ]
     },
     "execution_count": 11,
     "metadata": {},
     "output_type": "execute_result"
    }
   ],
   "source": [
    "np.sum(data, axis=0)"
   ]
  },
  {
   "cell_type": "markdown",
   "id": "7bb647f6",
   "metadata": {},
   "source": [
    "## 3.  Average Sales for Each Item: Write the NumPy code to calculate the average sales for each item over the 30 days."
   ]
  },
  {
   "cell_type": "code",
   "execution_count": 12,
   "id": "bf5641ba",
   "metadata": {},
   "outputs": [
    {
     "data": {
      "text/plain": [
       "array([52.6       , 52.43333333, 56.06666667])"
      ]
     },
     "execution_count": 12,
     "metadata": {},
     "output_type": "execute_result"
    }
   ],
   "source": [
    "np.mean(data, axis=0)"
   ]
  },
  {
   "cell_type": "markdown",
   "id": "67398046",
   "metadata": {},
   "source": [
    "## 4. Find Maximum Sales Day for Each Item: Write the NumPy code to find the day with the maximum sales for each item.\n"
   ]
  },
  {
   "cell_type": "code",
   "execution_count": 13,
   "id": "bbbcdfcd",
   "metadata": {},
   "outputs": [
    {
     "data": {
      "text/plain": [
       "(array([98, 98, 92]), array([0, 1, 3]))"
      ]
     },
     "execution_count": 13,
     "metadata": {},
     "output_type": "execute_result"
    }
   ],
   "source": [
    "np.max(data, axis=0), np.min(data, axis=0)"
   ]
  },
  {
   "cell_type": "markdown",
   "id": "361ed55d",
   "metadata": {},
   "source": [
    "## Q - You are analyzing the grades of 5 students in 3 subjects: Math, Science, and English. The grades are stored in a 2D NumPy array, where each row represents a student and each column represents a subject."
   ]
  },
  {
   "cell_type": "markdown",
   "id": "38a1e787",
   "metadata": {},
   "source": [
    "### 1. Create the Grades Array: How would you create a NumPy array to represent the grades of 5 students in 3 subjects?"
   ]
  },
  {
   "cell_type": "code",
   "execution_count": 22,
   "id": "d7ce39a1",
   "metadata": {},
   "outputs": [
    {
     "data": {
      "text/plain": [
       "array([[58, 23, 72],\n",
       "       [49, 13, 89],\n",
       "       [66, 12, 22],\n",
       "       [ 7, 31, 65],\n",
       "       [36, 65, 34]])"
      ]
     },
     "execution_count": 22,
     "metadata": {},
     "output_type": "execute_result"
    }
   ],
   "source": [
    "data = np.random.randint(1, 100, size=(5, 3))\n",
    "data"
   ]
  },
  {
   "cell_type": "markdown",
   "id": "88e04351",
   "metadata": {},
   "source": [
    "### 2. Find the Average Grade for Each Student: Write the NumPy code to calculate the average grade for each student."
   ]
  },
  {
   "cell_type": "code",
   "execution_count": 15,
   "id": "14f12181",
   "metadata": {},
   "outputs": [
    {
     "data": {
      "text/plain": [
       "array([61.66666667, 41.66666667, 65.33333333, 54.        , 55.66666667])"
      ]
     },
     "execution_count": 15,
     "metadata": {},
     "output_type": "execute_result"
    }
   ],
   "source": [
    "np.mean(data, axis=1)"
   ]
  },
  {
   "cell_type": "markdown",
   "id": "8d85ae55",
   "metadata": {},
   "source": [
    "### 3.  Find the Highest Grade in Each Subject: Write the NumPy code to find the highest grade in each subject."
   ]
  },
  {
   "cell_type": "code",
   "execution_count": 16,
   "id": "48792218",
   "metadata": {},
   "outputs": [
    {
     "data": {
      "text/plain": [
       "array([65, 92, 98])"
      ]
     },
     "execution_count": 16,
     "metadata": {},
     "output_type": "execute_result"
    }
   ],
   "source": [
    "np.max(data, axis=0)"
   ]
  },
  {
   "cell_type": "markdown",
   "id": "964c1e71",
   "metadata": {},
   "source": [
    "### 4.  Find the Student with the Highest Total Grade: Write the NumPy code to find the student with the highest total grade across all subjects.\n"
   ]
  },
  {
   "cell_type": "code",
   "execution_count": 17,
   "id": "ebdf23b9",
   "metadata": {},
   "outputs": [
    {
     "data": {
      "text/plain": [
       "2"
      ]
     },
     "execution_count": 17,
     "metadata": {},
     "output_type": "execute_result"
    }
   ],
   "source": [
    "mean = np.mean(data, axis=1)\n",
    "np.argmax(mean)"
   ]
  },
  {
   "cell_type": "markdown",
   "id": "6e75f9ae",
   "metadata": {},
   "source": [
    "## Q - You are working with temperature data for a week (7 days). You have temperatures for two cities, City A and City B."
   ]
  },
  {
   "cell_type": "markdown",
   "id": "49b9eadd",
   "metadata": {},
   "source": [
    "### 1. Create the Temperature Array: How would you create a NumPy array to represent the temperatures for 7 days in 2 cities?"
   ]
  },
  {
   "cell_type": "code",
   "execution_count": 23,
   "id": "d1d1491c",
   "metadata": {},
   "outputs": [
    {
     "data": {
      "text/plain": [
       "array([[29, 23],\n",
       "       [63,  1],\n",
       "       [58, 63],\n",
       "       [ 3, 75],\n",
       "       [64, 76],\n",
       "       [10, 95],\n",
       "       [25, 52]])"
      ]
     },
     "execution_count": 23,
     "metadata": {},
     "output_type": "execute_result"
    }
   ],
   "source": [
    "data = np.random.randint(0, 100, size=(7, 2))\n",
    "data"
   ]
  },
  {
   "cell_type": "markdown",
   "id": "fc939e42",
   "metadata": {},
   "source": [
    "### 2. Find the Average Temperature for Each Day: Write the NumPy code to calculate the average temperature for each day across the two cities."
   ]
  },
  {
   "cell_type": "code",
   "execution_count": 24,
   "id": "285567eb",
   "metadata": {},
   "outputs": [
    {
     "data": {
      "text/plain": [
       "array([26. , 32. , 60.5, 39. , 70. , 52.5, 38.5])"
      ]
     },
     "execution_count": 24,
     "metadata": {},
     "output_type": "execute_result"
    }
   ],
   "source": [
    "np.mean(data, axis=1)"
   ]
  },
  {
   "cell_type": "markdown",
   "id": "3f1b9252",
   "metadata": {},
   "source": [
    "### 3. Find the Highest Temperature Recorded: Write the NumPy code to find the highest temperature recorded across both cities."
   ]
  },
  {
   "cell_type": "code",
   "execution_count": 25,
   "id": "c155fef6",
   "metadata": {},
   "outputs": [
    {
     "data": {
      "text/plain": [
       "array([64, 95])"
      ]
     },
     "execution_count": 25,
     "metadata": {},
     "output_type": "execute_result"
    }
   ],
   "source": [
    "np.max(data, axis=0)"
   ]
  },
  {
   "cell_type": "markdown",
   "id": "35b198b7",
   "metadata": {},
   "source": [
    "### 4. Find the City with the Highest Average Temperature: Write the NumPy code to find which city had the highest average temperature."
   ]
  },
  {
   "cell_type": "code",
   "execution_count": 30,
   "id": "39868012",
   "metadata": {},
   "outputs": [
    {
     "data": {
      "text/plain": [
       "1"
      ]
     },
     "execution_count": 30,
     "metadata": {},
     "output_type": "execute_result"
    }
   ],
   "source": [
    "mean = np.mean(data, axis=0)\n",
    "np.argmax(mean, axis=0)"
   ]
  },
  {
   "cell_type": "markdown",
   "id": "dc91f6f0",
   "metadata": {},
   "source": [
    "# Extra Questions"
   ]
  },
  {
   "cell_type": "markdown",
   "id": "dd49fc96",
   "metadata": {},
   "source": [
    "## 1. How to replace items that satisfy a condition with another value in numpy array?"
   ]
  },
  {
   "cell_type": "code",
   "execution_count": 35,
   "id": "882ba2c0",
   "metadata": {},
   "outputs": [
    {
     "name": "stdout",
     "output_type": "stream",
     "text": [
      "[ 0 -1  2 -1  4 -1  6 -1  8 -1]\n"
     ]
    }
   ],
   "source": [
    "arr = np.arange(10) \n",
    "arr[arr%2 == 1] = -1\n",
    "print(arr)"
   ]
  },
  {
   "cell_type": "markdown",
   "id": "6c105d18",
   "metadata": {},
   "source": [
    "## 2. How to replace items that satisfy a condition without affecting the original array?"
   ]
  },
  {
   "cell_type": "code",
   "execution_count": 36,
   "id": "d37d320d",
   "metadata": {},
   "outputs": [
    {
     "name": "stdout",
     "output_type": "stream",
     "text": [
      "Modified Array [ 0 -1  2 -1  4 -1  6 -1  8 -1]\n",
      "\n",
      "Original Array [0 1 2 3 4 5 6 7 8 9]\n"
     ]
    }
   ],
   "source": [
    "arr = np.arange(10) \n",
    "out = arr.copy() \n",
    "out[out%2 == 1] = -1 \n",
    "print('Modified Array',out) \n",
    "print('\\nOriginal Array',arr)"
   ]
  },
  {
   "cell_type": "markdown",
   "id": "089b3505",
   "metadata": {},
   "source": [
    "## 3. Get the positions of top 5 maximum values in a given array"
   ]
  },
  {
   "cell_type": "code",
   "execution_count": 50,
   "id": "9af65229",
   "metadata": {},
   "outputs": [
    {
     "name": "stdout",
     "output_type": "stream",
     "text": [
      "Array [17.62415838 15.91731895 17.48917493 31.84659687 48.77145888 33.75084065\n",
      " 40.13903061  6.11373453 34.93786905 26.09240504 28.32250937 16.30041799\n",
      " 29.88251735 41.72555683 12.41707198 28.02202166 13.74290509 13.63801478\n",
      " 41.24623605 17.82927903]\n",
      "Sorted Index [ 7 14 17 16  1 11  2  0 19  9 15 10 12  3  5  8  6 18 13  4]\n",
      "Positions [ 4 13 18  6  8]\n",
      "Values [48.77145888 41.72555683 41.24623605 40.13903061 34.93786905]\n"
     ]
    }
   ],
   "source": [
    "a = np.random.uniform(low=1, high=50, size=(20)) \n",
    "print('Array', a)\n",
    "sort = a.argsort() \n",
    "print('Sorted Index', sort)\n",
    "print('Positions', sort[-5:][::-1])\n",
    "print('Values', a[sort][-5:][::-1])"
   ]
  },
  {
   "cell_type": "markdown",
   "id": "78939dde",
   "metadata": {},
   "source": [
    "## 4. Convert array_of_arrays into a flat linear 1d"
   ]
  },
  {
   "cell_type": "code",
   "execution_count": null,
   "id": "19d7db1f",
   "metadata": {},
   "outputs": [
    {
     "name": "stdout",
     "output_type": "stream",
     "text": [
      "[0 1 2 3 4 5 6 7 8 9]\n"
     ]
    }
   ],
   "source": [
    "arr1 = np.arange(3) \n",
    "arr2 = np.arange(3,7)\n",
    "arr3 = np.arange(7,10)\n",
    "arr_2d = np.concatenate([arr1, arr2, arr3]) \n",
    "print(arr_2d)"
   ]
  },
  {
   "cell_type": "markdown",
   "id": "ab683d3d",
   "metadata": {},
   "source": [
    "## 5. You have the following dataset with some missing (NaN) values."
   ]
  },
  {
   "cell_type": "code",
   "execution_count": 62,
   "id": "4ca256f0",
   "metadata": {},
   "outputs": [
    {
     "data": {
      "text/plain": [
       "6"
      ]
     },
     "execution_count": 62,
     "metadata": {},
     "output_type": "execute_result"
    }
   ],
   "source": [
    "data = np.array([10.5, 12.3, np.nan, 14.2, np.nan, 13.7])\n",
    "data.size"
   ]
  },
  {
   "cell_type": "code",
   "execution_count": 61,
   "id": "8d01f198",
   "metadata": {},
   "outputs": [
    {
     "data": {
      "text/plain": [
       "2"
      ]
     },
     "execution_count": 61,
     "metadata": {},
     "output_type": "execute_result"
    }
   ],
   "source": [
    "# How many missing values are there?\n",
    "data[np.isnan(data)].size"
   ]
  },
  {
   "cell_type": "code",
   "execution_count": 63,
   "id": "be0f57cd",
   "metadata": {},
   "outputs": [
    {
     "data": {
      "text/plain": [
       "array([10.5  , 12.3  , 12.675, 14.2  , 12.675, 13.7  ])"
      ]
     },
     "execution_count": 63,
     "metadata": {},
     "output_type": "execute_result"
    }
   ],
   "source": [
    "# Replace NaNs with the mean of the non-NaN values?\n",
    "data_not_nan = data[~np.isnan(data)]\n",
    "mean = np.mean(data_not_nan)\n",
    "data[np.isnan(data)] = mean\n",
    "data"
   ]
  },
  {
   "cell_type": "code",
   "execution_count": null,
   "id": "450afbbf",
   "metadata": {},
   "outputs": [],
   "source": []
  }
 ],
 "metadata": {
  "kernelspec": {
   "display_name": "venv",
   "language": "python",
   "name": "python3"
  },
  "language_info": {
   "codemirror_mode": {
    "name": "ipython",
    "version": 3
   },
   "file_extension": ".py",
   "mimetype": "text/x-python",
   "name": "python",
   "nbconvert_exporter": "python",
   "pygments_lexer": "ipython3",
   "version": "3.13.3"
  }
 },
 "nbformat": 4,
 "nbformat_minor": 5
}
